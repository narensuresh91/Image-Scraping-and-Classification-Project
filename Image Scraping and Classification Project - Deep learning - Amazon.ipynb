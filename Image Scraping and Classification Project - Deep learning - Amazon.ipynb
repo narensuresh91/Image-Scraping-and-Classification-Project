{
 "cells": [
  {
   "cell_type": "code",
   "execution_count": 16,
   "metadata": {},
   "outputs": [
    {
     "name": "stderr",
     "output_type": "stream",
     "text": [
      "Copying files: 3600 files [00:09, 398.77 files/s]\n"
     ]
    }
   ],
   "source": [
    "import splitfolders\n",
    "input_folder='Apparel_Amazon\\Input_Dataset'\n",
    "output_folder='Apparel_Amazon\\Processed_Dataset'\n",
    "splitfolders.ratio(input_folder,output_folder,seed=42,ratio=(.6,.2,.2))"
   ]
  },
  {
   "cell_type": "code",
   "execution_count": 28,
   "metadata": {},
   "outputs": [],
   "source": [
    "from keras.layers import Dense,Dropout,Flatten,Conv2D,MaxPool2D,BatchNormalization,GlobalAveragePooling2D\n",
    "from keras.applications.resnet50 import preprocess_input,decode_predictions\n",
    "import tensorflow as tf\n",
    "from tensorflow import keras\n",
    "from keras.models import Sequential, Model\n",
    "from keras.optimizers import Adam\n",
    "from keras.applications.resnet50 import ResNet50\n",
    "from tensorflow.keras import layers\n",
    "from keras.utils import to_categorical\n",
    "import numpy as np\n",
    "import matplotlib.pyplot as plt\n",
    "plt.style.use('fivethirtyeight')\n",
    "import cv2\n",
    "import os\n",
    "from tensorflow.keras.preprocessing.image import ImageDataGenerator,load_img\n",
    "from tensorflow.keras.preprocessing import image\n",
    "import pandas as pd\n",
    "import seaborn as sns\n"
   ]
  },
  {
   "cell_type": "code",
   "execution_count": 18,
   "metadata": {},
   "outputs": [],
   "source": [
    "img_height,img_width=(224,224)\n",
    "batch_size=32"
   ]
  },
  {
   "cell_type": "code",
   "execution_count": 19,
   "metadata": {},
   "outputs": [],
   "source": [
    "train_data_dir=r\"Apparel_Amazon\\Processed_Dataset\\train\"\n",
    "test_data_dir=r\"Apparel_Amazon\\Processed_Dataset\\test\"\n",
    "validation_data_dir=r\"Apparel_Amazon\\Processed_Dataset\\val\""
   ]
  },
  {
   "cell_type": "code",
   "execution_count": 20,
   "metadata": {},
   "outputs": [
    {
     "name": "stdout",
     "output_type": "stream",
     "text": [
      "Found 1296 images belonging to 3 classes.\n",
      "Found 288 images belonging to 3 classes.\n"
     ]
    }
   ],
   "source": [
    "train_datagen=ImageDataGenerator(preprocessing_function=preprocess_input,\n",
    "                                shear_range=0.2,\n",
    "                                zoom_range=0.2,\n",
    "                                horizontal_flip=True,\n",
    "                                validation_split=0.4)\n",
    "\n",
    "\n",
    "train_generator=train_datagen.flow_from_directory(train_data_dir,\n",
    "                                       target_size=(img_height,img_width),\n",
    "                                       batch_size=batch_size,\n",
    "                                       class_mode='categorical',\n",
    "                                                 subset='training')\n",
    "\n",
    "\n",
    "validation_generator=train_datagen.flow_from_directory(validation_data_dir,\n",
    "                                       target_size=(img_height,img_width),\n",
    "                                       batch_size=batch_size,\n",
    "                                       class_mode='categorical',\n",
    "                                                 subset='validation')\n"
   ]
  },
  {
   "cell_type": "code",
   "execution_count": 21,
   "metadata": {},
   "outputs": [
    {
     "name": "stdout",
     "output_type": "stream",
     "text": [
      "Found 288 images belonging to 3 classes.\n"
     ]
    }
   ],
   "source": [
    "test_generator=train_datagen.flow_from_directory(test_data_dir,\n",
    "                                       target_size=(img_height,img_width),\n",
    "                                       batch_size=1,\n",
    "                                       class_mode='categorical',\n",
    "                                                 subset='validation')"
   ]
  },
  {
   "cell_type": "code",
   "execution_count": 22,
   "metadata": {},
   "outputs": [
    {
     "data": {
      "text/plain": [
       "3"
      ]
     },
     "execution_count": 22,
     "metadata": {},
     "output_type": "execute_result"
    }
   ],
   "source": [
    "train_generator.num_classes"
   ]
  },
  {
   "cell_type": "code",
   "execution_count": 23,
   "metadata": {},
   "outputs": [],
   "source": [
    "base_model=ResNet50(include_top=False)\n",
    "x=base_model.output\n",
    "x=GlobalAveragePooling2D()(x)\n",
    "x=Dense(1024,activation='relu')(x)\n",
    "\n",
    "predictions=Dense(train_generator.num_classes,activation='softmax')(x)\n",
    "model=Model(inputs=base_model.input,outputs=predictions)\n",
    "\n",
    "for layer in base_model.layers:\n",
    "    layer.trainable=False\n",
    "\n",
    "\n",
    "\n"
   ]
  },
  {
   "cell_type": "code",
   "execution_count": 24,
   "metadata": {},
   "outputs": [],
   "source": [
    "model.compile(optimizer='adam',loss='categorical_crossentropy',metrics=['accuracy'])"
   ]
  },
  {
   "cell_type": "code",
   "execution_count": 25,
   "metadata": {},
   "outputs": [
    {
     "name": "stdout",
     "output_type": "stream",
     "text": [
      "Epoch 1/10\n",
      "41/41 [==============================] - 52s 1s/step - loss: 0.8955 - accuracy: 0.7827\n",
      "Epoch 2/10\n",
      "41/41 [==============================] - 50s 1s/step - loss: 0.1261 - accuracy: 0.9460\n",
      "Epoch 3/10\n",
      "41/41 [==============================] - 50s 1s/step - loss: 0.0633 - accuracy: 0.9674\n",
      "Epoch 4/10\n",
      "41/41 [==============================] - 50s 1s/step - loss: 0.0298 - accuracy: 0.9930\n",
      "Epoch 5/10\n",
      "41/41 [==============================] - 53s 1s/step - loss: 0.0275 - accuracy: 0.9940\n",
      "Epoch 6/10\n",
      "41/41 [==============================] - 53s 1s/step - loss: 0.0153 - accuracy: 0.9970\n",
      "Epoch 7/10\n",
      "41/41 [==============================] - 51s 1s/step - loss: 0.0101 - accuracy: 0.9976\n",
      "Epoch 8/10\n",
      "41/41 [==============================] - 52s 1s/step - loss: 0.0087 - accuracy: 0.9991\n",
      "Epoch 9/10\n",
      "41/41 [==============================] - 54s 1s/step - loss: 0.0062 - accuracy: 0.9989\n",
      "Epoch 10/10\n",
      "41/41 [==============================] - 52s 1s/step - loss: 0.0053 - accuracy: 0.9993\n"
     ]
    },
    {
     "data": {
      "text/plain": [
       "<tensorflow.python.keras.callbacks.History at 0x2aa8ba756c8>"
      ]
     },
     "execution_count": 25,
     "metadata": {},
     "output_type": "execute_result"
    }
   ],
   "source": [
    "model.fit(train_generator,epochs=10)"
   ]
  },
  {
   "cell_type": "code",
   "execution_count": 26,
   "metadata": {},
   "outputs": [],
   "source": [
    "model.save('Apparel_Amazon\\Processed_Dataset\\Apparel_Prediction.h5')"
   ]
  },
  {
   "cell_type": "code",
   "execution_count": 27,
   "metadata": {},
   "outputs": [
    {
     "name": "stdout",
     "output_type": "stream",
     "text": [
      "288/288 - 16s - loss: 0.0214 - accuracy: 0.9861\n"
     ]
    }
   ],
   "source": [
    "test_loss,test_acc=model.evaluate(test_generator,verbose=2)"
   ]
  },
  {
   "cell_type": "code",
   "execution_count": 30,
   "metadata": {},
   "outputs": [
    {
     "data": {
      "image/png": "[encoded data removed]",
      "text/plain": [
       "<Figure size 432x288 with 2 Axes>"
      ]
     },
     "metadata": {},
     "output_type": "display_data"
    },
    {
     "name": "stdout",
     "output_type": "stream",
     "text": [
      "Test Accuracy : 99.30555555555556\n"
     ]
    }
   ],
   "source": [
    "model=tf.keras.models.load_model('Apparel_Amazon\\Processed_Dataset\\Apparel_Prediction.h5')\n",
    "filename=test_generator.filenames\n",
    "nb_samples=len(test_generator)\n",
    "y_prob=[]\n",
    "y_act=[]\n",
    "test_generator.reset()\n",
    "for _ in range(nb_samples):\n",
    "    x_test,y_test=test_generator.next()\n",
    "    y_prob.append(model.predict(x_test))\n",
    "    y_act.append(y_test)\n",
    "    \n",
    "predicted_class=[list(train_generator.class_indices.keys())[i.argmax()] for i in y_prob]\n",
    "actual_class= [list(train_generator.class_indices.keys())[i.argmax()] for i in y_act]\n",
    "out_df=pd.DataFrame(np.vstack([predicted_class,actual_class]).T,columns=['predicted_class','actual_class'])\n",
    "confusion_matrix=pd.crosstab(out_df['actual_class'],out_df['predicted_class'],rownames=['Actual'],colnames=['Predicted'])\n",
    "sns.heatmap(confusion_matrix,cmap='Blues',annot=True,fmt='d')\n",
    "plt.show()\n",
    "print('Test Accuracy : {}'.format((np.diagonal(confusion_matrix).sum()/confusion_matrix.sum().sum()*100)))"
   ]
  },
  {
   "cell_type": "code",
   "execution_count": null,
   "metadata": {},
   "outputs": [],
   "source": []
  }
 ],
 "metadata": {
  "kernelspec": {
   "display_name": "Python 3",
   "language": "python",
   "name": "python3"
  },
  "language_info": {
   "codemirror_mode": {
    "name": "ipython",
    "version": 3
   },
   "file_extension": ".py",
   "mimetype": "text/x-python",
   "name": "python",
   "nbconvert_exporter": "python",
   "pygments_lexer": "ipython3",
   "version": "3.7.6"
  }
 },
 "nbformat": 4,
 "nbformat_minor": 4
}
